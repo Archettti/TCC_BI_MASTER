{
 "cells": [
  {
   "cell_type": "markdown",
   "metadata": {},
   "source": [
    "### Scraping e análise das maiores empresas do mundo listadas no Global Fortune 500\n",
    "\n",
    "#### Introdução\n",
    "\n",
    "O Web Scraping é uma ferramenta importante para obtenção de dados, pois ele torna estas informações acessíveis para todos os tipos de aplicações e análises. É uma técnica utilizada para \"minerar\" os dados disponíveis nos sites, extraindo deles os dados relevantes para um determinado assunto. Este mesmo processo pode ser realizado manualmente, porém com o Web Scraping é possível automatizar a coleta de uma grande massa de dados e transformá-los em uma estrutura legível para análise em uma curta fração de tempo. \n",
    "\n",
    "A utilização de APIs é, na maioria das vezes, a melhor forma de extrair os dados da web, porém quando o site não fornece este serviço o Web Scraping pode ser a alternativa viável.  \n",
    "\n",
    "O BeautifulSoup e o Selenium são algumas das bibliotecas conhecidas para a aplicação do scraping. O BeautifulSoup é uma biblioteca Python projetada para facilitar a extração de dados nos documentos estruturados em HTML. Atua na manipulação de páginas estáticas, ou seja, não é possível capturar as informações renderizadas via JavaScript. [Documentação Beautiful Soup](https://www.crummy.com/software/BeautifulSoup/bs4/doc.ptbr/)\n",
    "\n",
    "O Selenium é um framework voltado à testes de aplicações web pelo browser de forma automatizada. Além do seu uso como ferramenta de testes, é bastante utilizado na coleta de dados ou na criação de rotinas para manipulação de páginas da web. Ele basicamente simula o comportamento do usuário em uma página web. [Documentação Selenium](https://selenium-python.readthedocs.io/)\n",
    "\n",
    "Neste material, as duas técnicas foram aplicadas, pois a estrutura do web site, onde a raspagem foi realizada, parte do conteúdo é carregado dinamicamente. Dessa forma, foi necessário o uso do Selenium para simular as interações nas páginas, como por exemplo, carregar mais linhas por página e posteriormente aplicar o BeautifulSoup para coletar os dados relevantes.     \n",
    "\n",
    "#### Dados Coletados e Análises\n",
    "\n",
    "Os dados analisados foram extraídos no site da [Global Fortune 500](https://fortune.com/global500/).\n",
    "\n",
    "O Global Fortune 500 é uma classificação das 500 maiores empresas em todo o mundo, de acordo com a medição de sua receita do ano fiscal anterior. Esta lista é compilada e publicada anualmente pela revista Fortune. \n",
    "\n",
    "Com base nos dados extraídos foi possível realizar uma análise das informações destas empresas no ano de 2020, tais como: receitas geradas, lucros, número de pessoas empregadas por estas empresas, concentração de quais países/cidades onde as empresas estão instaladas, entre outras.  \n",
    "\n",
    "\n",
    "#### O projeto se divide assim:\n",
    "\n",
    "1a Etapa: Instalação e configuração das bibliotecas do Selenium e BeautifulSoup. Aplicação das técnicas de scraping nas páginas utilizando as bibliotecas mencionadas, coleta e estruturação dos dados raspados de cada empresa.\n",
    "\n",
    "2a Etapa: Criação e validação do pandas dataframe a partir da lista entregue na 1a Etapa, e geração do arquivo \"empresas_GlobalFortune500.xlsx\" (arquivo disponibilizado no github). \n",
    "\n",
    "3a Etapa: Análise exploratória dos dados das empresas.\n"
   ]
  },
  {
   "cell_type": "markdown",
   "metadata": {},
   "source": [
    "### Instalação e configuração das bibiliotecas necessárias"
   ]
  },
  {
   "cell_type": "markdown",
   "metadata": {},
   "source": [
    "###### Selenium\n",
    "\n",
    "O Selenium é a biblioteca que permitirá realizar as interações na página web, simulando o comportamento de um usuário.\n",
    "\n",
    "###### WebDriver\n",
    "\n",
    "WebDrivers são modulos executáveis que rodam no sistema com o browser a ser manipulado. O driver é específico para cada browser, como ChromeDriver para o Chrome/Chromium e o GeckoDriver para Firefox.\n",
    "\n",
    "Neste projeto foi utilizado o ChromeDriver, disponibilizado no site https://chromedriver.chromium.org/downloads.\n",
    "\n",
    "\n"
   ]
  },
  {
   "cell_type": "code",
   "execution_count": 3,
   "metadata": {},
   "outputs": [
    {
     "name": "stdout",
     "output_type": "stream",
     "text": [
      "Requirement already satisfied: selenium in c:\\users\\bruno\\anaconda3\\lib\\site-packages (3.141.0)\n",
      "Requirement already satisfied: urllib3 in c:\\users\\bruno\\anaconda3\\lib\\site-packages (from selenium) (1.25.8)\n",
      "Note: you may need to restart the kernel to use updated packages.\n"
     ]
    }
   ],
   "source": [
    "pip install selenium"
   ]
  },
  {
   "cell_type": "markdown",
   "metadata": {},
   "source": [
    "Importa o módulo webdriver e realiza as parametrizações iniciais do driver."
   ]
  },
  {
   "cell_type": "code",
   "execution_count": 4,
   "metadata": {
    "scrolled": true
   },
   "outputs": [],
   "source": [
    "from selenium import webdriver\n",
    "\n",
    "options = webdriver.ChromeOptions()\n",
    "\n",
    "options.add_argument('--headless') \n",
    "options.add_argument('--no-sandbox') \n",
    "options.add_argument('--disable-dev-shm-usage') \n",
    "options.add_argument('--start-maximized') \n",
    "options.add_argument('user-agent=Mozilla/5.0 (Windows NT 6.3; WOW64) AppleWebKit/537.36 (KHTML, like Gecko) Chrome/59.0.3071.115 Safari/537.36')\n",
    "options.add_argument('--ignore-certificate-errors')\n",
    "\n",
    "driver = webdriver.Chrome(options=options, executable_path=r'C:\\Users\\bruno\\Projetos PUC-RIO\\TCC - PUC\\TCC_BI_MASTER\\chromedriver.exe')"
   ]
  },
  {
   "cell_type": "markdown",
   "metadata": {},
   "source": [
    "Limpa os eventuais coockies presentes no driver."
   ]
  },
  {
   "cell_type": "code",
   "execution_count": 5,
   "metadata": {},
   "outputs": [],
   "source": [
    "driver.delete_all_cookies()"
   ]
  },
  {
   "cell_type": "markdown",
   "metadata": {},
   "source": [
    "Acessa a página web onde serão coletados os dados."
   ]
  },
  {
   "cell_type": "code",
   "execution_count": 7,
   "metadata": {},
   "outputs": [],
   "source": [
    "driver.get(\"https://fortune.com/global500/2020/search/\")"
   ]
  },
  {
   "cell_type": "markdown",
   "metadata": {},
   "source": [
    "### Scraping unindo o BeautifulSoup e Selenium para coleta dos dados"
   ]
  },
  {
   "cell_type": "markdown",
   "metadata": {},
   "source": [
    "O código abaixo representa a simulação de um usuário exibindo 100 linhas (empresas) por página e posteriormente visitando página por página até chegar a última possível. A interação foi realizada através das funções disponíveis no Selenium.\n",
    "\n",
    "Para cada página listada, com as respectivas 100 empresas rankeadas, os dados foram coletados através das funções disponíveis no BeautifulSoup"
   ]
  },
  {
   "cell_type": "code",
   "execution_count": 8,
   "metadata": {},
   "outputs": [],
   "source": [
    "from bs4 import BeautifulSoup\n",
    "from selenium.webdriver.support.ui import Select\n",
    "from selenium.webdriver.common.keys import Keys\n",
    "\n",
    "data_list_companies = []\n",
    "\n",
    "show_onehundred_companies = Select(driver.find_element_by_xpath(\"//select[@aria-label='rows per page']\"))\n",
    "\n",
    "# setar a exibição de cem linhas por página\n",
    "show_onehundred_companies.select_by_value('100')\n",
    "\n",
    "jump_page = driver.find_element_by_xpath(\"//input[@aria-label='jump to page']\")\n",
    "\n",
    "page = 1\n",
    "\n",
    "while page < 6:\n",
    "   \n",
    "    driver.implicitly_wait(10000)\n",
    "    page_html = driver.page_source\n",
    "    soup = BeautifulSoup(page_html,'html.parser')\n",
    "\n",
    "    companies = soup.find_all('div', attrs={'class':'rt-tr-group'})\n",
    "    \n",
    "    # coleta os dados e os sites de cada uma das cem empresas listadas \n",
    "    # este site individual por empresa será utilizado mais a frente para a obtenção de mais dados\n",
    "    for companie in companies:\n",
    "        data, site = companie.find_all('a'), companie.find('a')      \n",
    "\n",
    "        data = [ele.text for ele in data]\n",
    "        site = [site.get('href')]        \n",
    "        data_complete = data + site\n",
    "\n",
    "        data_list_companies.append(data_complete)\n",
    "    \n",
    "    page = page + 1\n",
    "    \n",
    "    # deleta o valor inserido no campo para que um novo valor de paginação seja preenchido\n",
    "    jump_page.send_keys(Keys.BACKSPACE)    \n",
    "    jump_page.send_keys(page, Keys.ENTER)    "
   ]
  },
  {
   "cell_type": "markdown",
   "metadata": {},
   "source": [
    "Imprime para validação dos dados obtidos a primeira e última empresa listadas em cada página."
   ]
  },
  {
   "cell_type": "code",
   "execution_count": 9,
   "metadata": {},
   "outputs": [
    {
     "name": "stdout",
     "output_type": "stream",
     "text": [
      "   Pág 1. Primeira e última empresa da lista\n",
      "    ['1', 'Walmart']\n",
      "    ['100', 'Dongfeng Motor']\n",
      "   _____________________________________\n",
      "\n",
      "   Pág 2. Primeira e última empresa da lista\n",
      "    ['101', 'Peugeot']\n",
      "    ['200', 'Energy Transfer']\n",
      "   _____________________________________\n",
      "\n",
      "   Pág 3. Primeira e última empresa da lista\n",
      "    ['201', 'Telefónica']\n",
      "    ['300', 'Mitsubishi Electric']\n",
      "   _____________________________________\n",
      "\n",
      "   Pág 4. Primeira e última empresa da lista\n",
      "    ['301', 'Jardine Matheson']\n",
      "    ['400', 'Mazda Motor']\n",
      "   _____________________________________\n",
      "\n",
      "   Pág 5. Primeira e última empresa da lista\n",
      "    ['401', 'Ansteel Group']\n",
      "    ['500', 'Shanxi Jincheng Anthracite Coal Mining Group']\n",
      "   _____________________________________\n",
      "\n"
     ]
    }
   ],
   "source": [
    "i = 0\n",
    "j = 99\n",
    "page = 1\n",
    "\n",
    "while page < 6:\n",
    "    print(\"   Pág {}. Primeira e última empresa da lista\".format(page))\n",
    "    print(\"   \" , data_list_companies[i][0:2])\n",
    "    print(\"   \" , data_list_companies[j][0:2])\n",
    "    print(\"   _____________________________________\\n\")\n",
    "    i = i + 100\n",
    "    j = j + 100\n",
    "    page = page + 1"
   ]
  },
  {
   "cell_type": "markdown",
   "metadata": {},
   "source": [
    "Para cada empresa obtida, além dos dados apresentados em tela, também foram coletados os sites de cada empresa disponibilizados no próprio site da Global Fortune 500. Estes sites também foram raspados, pois contém mais dados, diferentes dos já coletados, que também possuem uma relevância para a análise das empresas."
   ]
  },
  {
   "cell_type": "code",
   "execution_count": 10,
   "metadata": {},
   "outputs": [
    {
     "data": {
      "text/plain": [
       "['https://fortune.com/company/walmart/global500/',\n",
       " 'https://fortune.com/company/sinopec-group/global500/',\n",
       " 'https://fortune.com/company/state-grid/global500/',\n",
       " 'https://fortune.com/company/china-national-petroleum/global500/',\n",
       " 'https://fortune.com/company/royal-dutch-shell/global500/',\n",
       " 'https://fortune.com/company/saudi-aramco/global500/',\n",
       " 'https://fortune.com/company/volkswagen/global500/',\n",
       " 'https://fortune.com/company/bp/global500/',\n",
       " 'https://fortune.com/company/amazon-com/global500/',\n",
       " 'https://fortune.com/company/toyota-motor/global500/']"
      ]
     },
     "execution_count": 10,
     "metadata": {},
     "output_type": "execute_result"
    }
   ],
   "source": [
    "sites = []\n",
    "\n",
    "for i in range(500):\n",
    "    urls = data_list_companies[i][10]\n",
    "    sites.append(urls)\n",
    "    \n",
    "sites[0:10] # exibe os 10 primeiros sites "
   ]
  },
  {
   "cell_type": "markdown",
   "metadata": {},
   "source": [
    "Obtenção dos dados disponíveis no site de cada empresa e criação da lista final (data_companies) com todos os dados de todas as empresas que serão posteriormente analisados."
   ]
  },
  {
   "cell_type": "code",
   "execution_count": 11,
   "metadata": {},
   "outputs": [],
   "source": [
    "data_companie = []\n",
    "data_companies = []\n",
    "\n",
    "i = 0\n",
    "for site in sites:\n",
    "    \n",
    "    driver.get(site)\n",
    "    page_html = driver.page_source\n",
    "    \n",
    "    soup = BeautifulSoup(page_html,'html.parser')    \n",
    "    data = soup.find_all('div', attrs={'class':'info__value--2AHH7'})    \n",
    "    data_companie.append(data)\n",
    "    \n",
    "    # informações presentes na página inicial onde são listadas todas as empresas\n",
    "    rank = data_list_companies[i][0]\n",
    "    name = data_list_companies[i][1]\n",
    "    revenues_percent = data_list_companies[i][3]\n",
    "    profits_percent = data_list_companies[i][5]\n",
    "    assets = data_list_companies[i][6]\n",
    "    change_rank = data_list_companies[i][8]\n",
    "    years_global500 = data_list_companies[i][9]\n",
    "    \n",
    "    # informações presentes no site individual de cada empresa\n",
    "    country = data_companie[i][0].text\n",
    "    headquarters = data_companie[i][1].text\n",
    "    industry = data_companie[i][2].text\n",
    "    ceo = data_companie[i][3].text\n",
    "    companyType = data_companie[i][4].text\n",
    "    ticker = data_companie[i][5].text\n",
    "    revenues = data_companie[i][6].text\n",
    "    profits = data_companie[i][7].text\n",
    "    marketValue = data_companie[i][8].text\n",
    "    employees = data_companie[i][9].text\n",
    "     \n",
    "    i = i + 1\n",
    "    \n",
    "    # inserindo todas as informações presentes na listagem inicial e no site de cada empresa\n",
    "    data_companies.append((rank, name, country, headquarters, industry, ceo, \n",
    "                           companyType, ticker, revenues, revenues_percent, \n",
    "                           profits, profits_percent, assets, marketValue, \n",
    "                           employees, change_rank, years_global500))      \n"
   ]
  },
  {
   "cell_type": "markdown",
   "metadata": {},
   "source": [
    "Finaliza o driver"
   ]
  },
  {
   "cell_type": "code",
   "execution_count": 12,
   "metadata": {},
   "outputs": [],
   "source": [
    "driver.quit()"
   ]
  },
  {
   "cell_type": "markdown",
   "metadata": {},
   "source": [
    "### Criação e validação inicial dos dados no dataframe e arquivo excel "
   ]
  },
  {
   "cell_type": "code",
   "execution_count": 13,
   "metadata": {
    "scrolled": true
   },
   "outputs": [],
   "source": [
    "import pandas as pd\n",
    "\n",
    "df = pd.DataFrame(data_companies, columns=['rank', 'name', 'country', 'headquarters', 'industry',\n",
    "                                           'ceo','companyType', 'ticker', 'revenues', 'revenues_percent', \n",
    "                                           'profits', 'profits_percent', 'assets', 'marketValue', \n",
    "                                           'employees','change_rank', 'years_global500'])\n",
    "\n"
   ]
  },
  {
   "cell_type": "markdown",
   "metadata": {},
   "source": [
    "Cria o arquivo excel (arquivo disponibilizado no github)"
   ]
  },
  {
   "cell_type": "code",
   "execution_count": 13,
   "metadata": {},
   "outputs": [],
   "source": [
    "df.to_excel('C:/Users/bruno/Projetos PUC-RIO/TCC - PUC/TCC_BI_MASTER/empresas_GlobalFortune500.xlsx') "
   ]
  },
  {
   "cell_type": "markdown",
   "metadata": {},
   "source": [
    "Validação do dataframe"
   ]
  },
  {
   "cell_type": "code",
   "execution_count": 14,
   "metadata": {},
   "outputs": [
    {
     "data": {
      "text/plain": [
       "(500, 17)"
      ]
     },
     "execution_count": 14,
     "metadata": {},
     "output_type": "execute_result"
    }
   ],
   "source": [
    "df.shape"
   ]
  },
  {
   "cell_type": "code",
   "execution_count": 15,
   "metadata": {},
   "outputs": [
    {
     "data": {
      "text/html": [
       "<div>\n",
       "<style scoped>\n",
       "    .dataframe tbody tr th:only-of-type {\n",
       "        vertical-align: middle;\n",
       "    }\n",
       "\n",
       "    .dataframe tbody tr th {\n",
       "        vertical-align: top;\n",
       "    }\n",
       "\n",
       "    .dataframe thead th {\n",
       "        text-align: right;\n",
       "    }\n",
       "</style>\n",
       "<table border=\"1\" class=\"dataframe\">\n",
       "  <thead>\n",
       "    <tr style=\"text-align: right;\">\n",
       "      <th></th>\n",
       "      <th>rank</th>\n",
       "      <th>name</th>\n",
       "      <th>country</th>\n",
       "      <th>headquarters</th>\n",
       "      <th>industry</th>\n",
       "      <th>ceo</th>\n",
       "      <th>companyType</th>\n",
       "      <th>ticker</th>\n",
       "      <th>revenues</th>\n",
       "      <th>revenues_percent</th>\n",
       "      <th>profits</th>\n",
       "      <th>profits_percent</th>\n",
       "      <th>assets</th>\n",
       "      <th>marketValue</th>\n",
       "      <th>employees</th>\n",
       "      <th>change_rank</th>\n",
       "      <th>years_global500</th>\n",
       "    </tr>\n",
       "  </thead>\n",
       "  <tbody>\n",
       "    <tr>\n",
       "      <th>0</th>\n",
       "      <td>1</td>\n",
       "      <td>Walmart</td>\n",
       "      <td>U.S.</td>\n",
       "      <td>Bentonville, Ark.</td>\n",
       "      <td>General Merchandisers</td>\n",
       "      <td>C. Douglas McMillon</td>\n",
       "      <td>Public</td>\n",
       "      <td>WMT</td>\n",
       "      <td>$559,151</td>\n",
       "      <td>1.9%</td>\n",
       "      <td>$13,510</td>\n",
       "      <td>123.1%</td>\n",
       "      <td>$236,495</td>\n",
       "      <td>$382,642.8</td>\n",
       "      <td>2,300,000</td>\n",
       "      <td>-</td>\n",
       "      <td>26</td>\n",
       "    </tr>\n",
       "    <tr>\n",
       "      <th>1</th>\n",
       "      <td>2</td>\n",
       "      <td>Sinopec Group</td>\n",
       "      <td>China</td>\n",
       "      <td>Beijing</td>\n",
       "      <td>Petroleum Refining</td>\n",
       "      <td>Zhang Yuzhuo</td>\n",
       "      <td>Private</td>\n",
       "      <td></td>\n",
       "      <td>$407,009</td>\n",
       "      <td>-1.8%</td>\n",
       "      <td>$6,793.2</td>\n",
       "      <td>16.2%</td>\n",
       "      <td>$317,515.7</td>\n",
       "      <td>$</td>\n",
       "      <td>582,648</td>\n",
       "      <td>-</td>\n",
       "      <td>22</td>\n",
       "    </tr>\n",
       "    <tr>\n",
       "      <th>2</th>\n",
       "      <td>3</td>\n",
       "      <td>State Grid</td>\n",
       "      <td>China</td>\n",
       "      <td>Beijing</td>\n",
       "      <td>Utilities</td>\n",
       "      <td>Xin Baoan</td>\n",
       "      <td>Private</td>\n",
       "      <td></td>\n",
       "      <td>$383,906</td>\n",
       "      <td>-0.8%</td>\n",
       "      <td>$7,970</td>\n",
       "      <td>-2.5%</td>\n",
       "      <td>$596,616.3</td>\n",
       "      <td>$</td>\n",
       "      <td>907,677</td>\n",
       "      <td>2</td>\n",
       "      <td>20</td>\n",
       "    </tr>\n",
       "    <tr>\n",
       "      <th>3</th>\n",
       "      <td>4</td>\n",
       "      <td>China National Petroleum</td>\n",
       "      <td>China</td>\n",
       "      <td>Beijing</td>\n",
       "      <td>Petroleum Refining</td>\n",
       "      <td>Li FanRong</td>\n",
       "      <td>Private</td>\n",
       "      <td></td>\n",
       "      <td>$379,130</td>\n",
       "      <td>-3.5%</td>\n",
       "      <td>$4,443.2</td>\n",
       "      <td>95.7%</td>\n",
       "      <td>$608,085.6</td>\n",
       "      <td>$</td>\n",
       "      <td>1,344,410</td>\n",
       "      <td>-</td>\n",
       "      <td>20</td>\n",
       "    </tr>\n",
       "    <tr>\n",
       "      <th>4</th>\n",
       "      <td>5</td>\n",
       "      <td>Royal Dutch Shell</td>\n",
       "      <td>Netherlands</td>\n",
       "      <td>The Hague</td>\n",
       "      <td>Petroleum Refining</td>\n",
       "      <td>Ben van Beurden</td>\n",
       "      <td>Public</td>\n",
       "      <td>RDS.A</td>\n",
       "      <td>$352,106</td>\n",
       "      <td>-11.2%</td>\n",
       "      <td>$15,842</td>\n",
       "      <td>-32.2%</td>\n",
       "      <td>$404,336</td>\n",
       "      <td>$112,725</td>\n",
       "      <td>83,000</td>\n",
       "      <td>-2</td>\n",
       "      <td>26</td>\n",
       "    </tr>\n",
       "  </tbody>\n",
       "</table>\n",
       "</div>"
      ],
      "text/plain": [
       "  rank                      name      country       headquarters  \\\n",
       "0    1                   Walmart         U.S.  Bentonville, Ark.   \n",
       "1    2             Sinopec Group        China            Beijing   \n",
       "2    3                State Grid        China            Beijing   \n",
       "3    4  China National Petroleum        China            Beijing   \n",
       "4    5         Royal Dutch Shell  Netherlands          The Hague   \n",
       "\n",
       "                industry                  ceo companyType ticker  revenues  \\\n",
       "0  General Merchandisers  C. Douglas McMillon      Public    WMT  $559,151   \n",
       "1     Petroleum Refining         Zhang Yuzhuo     Private         $407,009   \n",
       "2              Utilities            Xin Baoan     Private         $383,906   \n",
       "3     Petroleum Refining           Li FanRong     Private         $379,130   \n",
       "4     Petroleum Refining      Ben van Beurden      Public  RDS.A  $352,106   \n",
       "\n",
       "  revenues_percent   profits profits_percent      assets marketValue  \\\n",
       "0             1.9%   $13,510          123.1%    $236,495  $382,642.8   \n",
       "1            -1.8%  $6,793.2           16.2%  $317,515.7           $   \n",
       "2            -0.8%    $7,970           -2.5%  $596,616.3           $   \n",
       "3            -3.5%  $4,443.2           95.7%  $608,085.6           $   \n",
       "4           -11.2%   $15,842          -32.2%    $404,336    $112,725   \n",
       "\n",
       "   employees change_rank years_global500  \n",
       "0  2,300,000           -              26  \n",
       "1    582,648           -              22  \n",
       "2    907,677           2              20  \n",
       "3  1,344,410           -              20  \n",
       "4     83,000          -2              26  "
      ]
     },
     "execution_count": 15,
     "metadata": {},
     "output_type": "execute_result"
    }
   ],
   "source": [
    "df.head() # as tabelas abaixo se apresentaram desconfiguradas em algumas partes no github"
   ]
  },
  {
   "cell_type": "code",
   "execution_count": 16,
   "metadata": {},
   "outputs": [
    {
     "data": {
      "text/html": [
       "<div>\n",
       "<style scoped>\n",
       "    .dataframe tbody tr th:only-of-type {\n",
       "        vertical-align: middle;\n",
       "    }\n",
       "\n",
       "    .dataframe tbody tr th {\n",
       "        vertical-align: top;\n",
       "    }\n",
       "\n",
       "    .dataframe thead th {\n",
       "        text-align: right;\n",
       "    }\n",
       "</style>\n",
       "<table border=\"1\" class=\"dataframe\">\n",
       "  <thead>\n",
       "    <tr style=\"text-align: right;\">\n",
       "      <th></th>\n",
       "      <th>rank</th>\n",
       "      <th>name</th>\n",
       "      <th>country</th>\n",
       "      <th>headquarters</th>\n",
       "      <th>industry</th>\n",
       "      <th>ceo</th>\n",
       "      <th>companyType</th>\n",
       "      <th>ticker</th>\n",
       "      <th>revenues</th>\n",
       "      <th>revenues_percent</th>\n",
       "      <th>profits</th>\n",
       "      <th>profits_percent</th>\n",
       "      <th>assets</th>\n",
       "      <th>marketValue</th>\n",
       "      <th>employees</th>\n",
       "      <th>change_rank</th>\n",
       "      <th>years_global500</th>\n",
       "    </tr>\n",
       "  </thead>\n",
       "  <tbody>\n",
       "    <tr>\n",
       "      <th>495</th>\n",
       "      <td>496</td>\n",
       "      <td>China National Coal Group</td>\n",
       "      <td>China</td>\n",
       "      <td>Beijing</td>\n",
       "      <td>Mining, Crude-Oil Production</td>\n",
       "      <td>Li Yanjiang</td>\n",
       "      <td>Private</td>\n",
       "      <td></td>\n",
       "      <td>$25,846</td>\n",
       "      <td>14%</td>\n",
       "      <td>$307.7</td>\n",
       "      <td>-</td>\n",
       "      <td>$56,840.6</td>\n",
       "      <td>$</td>\n",
       "      <td>122,827</td>\n",
       "      <td>-</td>\n",
       "      <td>1</td>\n",
       "    </tr>\n",
       "    <tr>\n",
       "      <th>496</th>\n",
       "      <td>497</td>\n",
       "      <td>Paccar</td>\n",
       "      <td>U.S.</td>\n",
       "      <td>Bellevue, Wash.</td>\n",
       "      <td>Construction and Farm Machinery</td>\n",
       "      <td>R. Preston Feight</td>\n",
       "      <td>Public</td>\n",
       "      <td>PCAR</td>\n",
       "      <td>$18,728.5</td>\n",
       "      <td>9%</td>\n",
       "      <td>$1,298.4</td>\n",
       "      <td>8.8%</td>\n",
       "      <td>$28,361.1</td>\n",
       "      <td>$32,255.8</td>\n",
       "      <td>26,000</td>\n",
       "      <td>-</td>\n",
       "      <td>3</td>\n",
       "    </tr>\n",
       "    <tr>\n",
       "      <th>497</th>\n",
       "      <td>498</td>\n",
       "      <td>Thermo Fisher Scientific</td>\n",
       "      <td>U.S.</td>\n",
       "      <td>Waltham, Mass.</td>\n",
       "      <td>Scientific,Photographic and Control Equipment</td>\n",
       "      <td>Marc N. Casper</td>\n",
       "      <td>Public</td>\n",
       "      <td>TMO</td>\n",
       "      <td>$32,218</td>\n",
       "      <td>4.9%</td>\n",
       "      <td>$6,375</td>\n",
       "      <td>25.8%</td>\n",
       "      <td>$58,381</td>\n",
       "      <td>$179,719.4</td>\n",
       "      <td>84,362</td>\n",
       "      <td>-</td>\n",
       "      <td>1</td>\n",
       "    </tr>\n",
       "    <tr>\n",
       "      <th>498</th>\n",
       "      <td>499</td>\n",
       "      <td>Yangquan Coal Industry Group</td>\n",
       "      <td>China</td>\n",
       "      <td>Yangquan, China</td>\n",
       "      <td>Mining, Crude-Oil Production</td>\n",
       "      <td>Zhai Hong</td>\n",
       "      <td>Private</td>\n",
       "      <td></td>\n",
       "      <td>$25,491</td>\n",
       "      <td>-3%</td>\n",
       "      <td>$-81.5</td>\n",
       "      <td>-</td>\n",
       "      <td>$35,408.8</td>\n",
       "      <td>$</td>\n",
       "      <td>101,817</td>\n",
       "      <td>-30</td>\n",
       "      <td>8</td>\n",
       "    </tr>\n",
       "    <tr>\n",
       "      <th>499</th>\n",
       "      <td>500</td>\n",
       "      <td>Shanxi Jincheng Anthracite Coal Mining Group</td>\n",
       "      <td>China</td>\n",
       "      <td>Jincheng, China</td>\n",
       "      <td>Mining, Crude-Oil Production</td>\n",
       "      <td>Li Hongshuang</td>\n",
       "      <td>Private</td>\n",
       "      <td></td>\n",
       "      <td>$25,386</td>\n",
       "      <td>-1.8%</td>\n",
       "      <td>$22</td>\n",
       "      <td>-58.3%</td>\n",
       "      <td>$42,256.6</td>\n",
       "      <td>$</td>\n",
       "      <td>127,336</td>\n",
       "      <td>-18</td>\n",
       "      <td>8</td>\n",
       "    </tr>\n",
       "  </tbody>\n",
       "</table>\n",
       "</div>"
      ],
      "text/plain": [
       "    rank                                          name country  \\\n",
       "495  496                     China National Coal Group   China   \n",
       "496  497                                        Paccar    U.S.   \n",
       "497  498                      Thermo Fisher Scientific    U.S.   \n",
       "498  499                  Yangquan Coal Industry Group   China   \n",
       "499  500  Shanxi Jincheng Anthracite Coal Mining Group   China   \n",
       "\n",
       "        headquarters                                       industry  \\\n",
       "495          Beijing                   Mining, Crude-Oil Production   \n",
       "496  Bellevue, Wash.                Construction and Farm Machinery   \n",
       "497   Waltham, Mass.  Scientific,Photographic and Control Equipment   \n",
       "498  Yangquan, China                   Mining, Crude-Oil Production   \n",
       "499  Jincheng, China                   Mining, Crude-Oil Production   \n",
       "\n",
       "                   ceo companyType ticker   revenues revenues_percent  \\\n",
       "495        Li Yanjiang     Private           $25,846              14%   \n",
       "496  R. Preston Feight      Public   PCAR  $18,728.5               9%   \n",
       "497     Marc N. Casper      Public    TMO    $32,218             4.9%   \n",
       "498          Zhai Hong     Private           $25,491              -3%   \n",
       "499      Li Hongshuang     Private           $25,386            -1.8%   \n",
       "\n",
       "      profits profits_percent     assets marketValue employees change_rank  \\\n",
       "495    $307.7               -  $56,840.6           $   122,827           -   \n",
       "496  $1,298.4            8.8%  $28,361.1   $32,255.8    26,000           -   \n",
       "497    $6,375           25.8%    $58,381  $179,719.4    84,362           -   \n",
       "498    $-81.5               -  $35,408.8           $   101,817         -30   \n",
       "499       $22          -58.3%  $42,256.6           $   127,336         -18   \n",
       "\n",
       "    years_global500  \n",
       "495               1  \n",
       "496               3  \n",
       "497               1  \n",
       "498               8  \n",
       "499               8  "
      ]
     },
     "execution_count": 16,
     "metadata": {},
     "output_type": "execute_result"
    }
   ],
   "source": [
    "df.tail()"
   ]
  },
  {
   "cell_type": "markdown",
   "metadata": {},
   "source": [
    "### Análise exploratória dos dados das empresas (em desenvolvimento)"
   ]
  },
  {
   "cell_type": "markdown",
   "metadata": {},
   "source": [
    "O arquivo gerado foi utilizado como fonte de dados para importação no [Power BI](https://docs.microsoft.com/pt-br/power-bi/) e assim responder as análises propostas na introdução deste material. Os dados carregados foram tratados no editor do Power Query, onde foi realizada a remoção de colunas desnecessárias, extração/substituição de textos e a conversão de tipos de dados. Algumas medidas também foram criadas para a utilização nos diferentes tipos de visualizações dos relatórios. O arquivo [empresas_GlobalFortune500.xlsx](https://github.com/Archettti/TCC_BI_MASTER/blob/main/empresas_GlobalFortune500.xlsx), com todos os passos informados acima, além dos relatórios completos, também está disponibilizado no github."
   ]
  },
  {
   "cell_type": "markdown",
   "metadata": {},
   "source": [
    "O primeiro relatório foi sobre a concentração geográfica das 500 maiores empresas do mundo em 2020. Elas estão distribuídas em 33 países. A China e Estados Unidos lideram com 124 e 122 empresas representadas respectivamente, sendo Pequim a cidade que mais abriga estas empresas como sede. No Brasil, existem 07 empresas rankeadas na lista: Petrobras (120); JBS (213); Itáu (216); Bradesco (268); BB (288); CEF (326); e Vale (333). \n",
    "\n",
    "<img src=\"img/relEmpresas.png\" width=\"800\" /> "
   ]
  },
  {
   "cell_type": "markdown",
   "metadata": {},
   "source": [
    "Ao todo, as maiores empresas do mundo em 2020 geraram  32,7 Tri de dólares em receitas. Boa parte concentrada nos Estados Unidos e China, que juntas possuem 246 empresas das 500 listadas, pouco menos da metade da lista. As duas empresas que mais geraram receita em 2020 foram Walmart (559,15 Bi) e Sinopec (407,01 Bi). \n",
    "\n",
    "<img src=\"img/relReceitas.png\" width=\"800\" /> "
   ]
  },
  {
   "cell_type": "markdown",
   "metadata": {},
   "source": [
    "Além da receita gerada, as 500 maiores empresas do mundo obtiveram 1,7 Tri de dólares em lucros em 2020 e possuem o valor de mercado no total de 36,02 Tri de dólares. As empresas mais lucrativas e mais valiosas no mercado estão representadas no relatório abaixo.\n",
    "\n",
    "<img src=\"img/relLucroMercado.png\" width=\"800\" /> "
   ]
  },
  {
   "cell_type": "markdown",
   "metadata": {},
   "source": [
    "Juntas, as empresas Fortune Global 500 de 2020 empregaram 70,38 milhões de pessoas em todo o mundo. Mais uma vez China e Estados Unidos lideram por consequência da representatividade de boa parte das empresas na lista.\n",
    "\n",
    "<img src=\"img/relEmpregados.png\" width=\"800\" /> "
   ]
  },
  {
   "cell_type": "markdown",
   "metadata": {},
   "source": [
    "Os cinco tipos de indústrias com maior representatividade no Global Fortune 500 são, nesta ordem: Bancos; Refino de Petróleo; Seguros; Mineiração & Produção de Óleo; e Veículo Motorizados & Peças. A indústria petrolífera é que a mais gerou receita em 2020, o equivalente a 3,19 Tri de dólares. Já as empresas do setor bancário são as que mais empregaram, totalizando 4,78 milhões de pessoas trabalhando neste setor em todo o mundo. \n",
    "\n",
    "<img src=\"img/relIndustrias.png\" width=\"800\" /> "
   ]
  },
  {
   "cell_type": "markdown",
   "metadata": {},
   "source": [
    "As empresas brasileiras na Global Fortune 500 estão divididas entre as indústrias petrolífera, bancária, alimentícia e de mineiração. Cada setor possui uma grande contribuição na geração de receita e empregos ao país. \n",
    "\n",
    "\n",
    "<img src=\"img/empresasBrasil.gif\" width=\"800\" /> "
   ]
  }
 ],
 "metadata": {
  "kernelspec": {
   "display_name": "Python 3",
   "language": "python",
   "name": "python3"
  },
  "language_info": {
   "codemirror_mode": {
    "name": "ipython",
    "version": 3
   },
   "file_extension": ".py",
   "mimetype": "text/x-python",
   "name": "python",
   "nbconvert_exporter": "python",
   "pygments_lexer": "ipython3",
   "version": "3.7.6"
  }
 },
 "nbformat": 4,
 "nbformat_minor": 5
}
